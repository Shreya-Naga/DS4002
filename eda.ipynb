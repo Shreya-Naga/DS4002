{
 "cells": [
  {
   "cell_type": "code",
   "execution_count": 6,
   "metadata": {},
   "outputs": [],
   "source": [
    "import pandas as pd"
   ]
  },
  {
   "cell_type": "code",
   "execution_count": 7,
   "metadata": {},
   "outputs": [
    {
     "name": "stdout",
     "output_type": "stream",
     "text": [
      "['YearStart', 'YearEnd', 'LocationAbbr', 'LocationDesc', 'Datasource', 'Class', 'Topic', 'Question', 'Data_Value_Unit', 'Data_Value_Type', 'Data_Value', 'Data_Value_Alt', 'Data_Value_Footnote_Symbol', 'Data_Value_Footnote', 'Low_Confidence_Limit', 'High_Confidence_Limit ', 'Sample_Size', 'Total', 'Age(years)', 'Education', 'Gender', 'Income', 'Race/Ethnicity', 'GeoLocation', 'ClassID', 'TopicID', 'QuestionID', 'DataValueTypeID', 'LocationID', 'StratificationCategory1', 'Stratification1', 'StratificationCategoryId1', 'StratificationID1']\n"
     ]
    }
   ],
   "source": [
    "#read the csv file\n",
    "df = pd.read_csv('DATA/cdc_npao.csv')\n",
    "print(list(df.columns))\n"
   ]
  },
  {
   "cell_type": "code",
   "execution_count": 8,
   "metadata": {},
   "outputs": [],
   "source": [
    "#delete unnecessary columns\n",
    "df_clean = df.drop(['Data_Value_Unit', 'Data_Value_Type', 'Data_Value_Footnote_Symbol', 'Data_Value_Footnote', 'Low_Confidence_Limit', 'High_Confidence_Limit ', 'Total', 'Race/Ethnicity', 'GeoLocation', 'StratificationCategory1', 'Stratification1', 'StratificationCategoryId1', 'StratificationID1'], axis='columns')"
   ]
  },
  {
   "cell_type": "code",
   "execution_count": 9,
   "metadata": {},
   "outputs": [
    {
     "data": {
      "text/plain": [
       "0          South\n",
       "1          South\n",
       "2          South\n",
       "3          South\n",
       "4          South\n",
       "          ...   \n",
       "48767    Unknown\n",
       "48768    Unknown\n",
       "48769    Unknown\n",
       "48770    Unknown\n",
       "48771    Unknown\n",
       "Name: region, Length: 48772, dtype: object"
      ]
     },
     "execution_count": 9,
     "metadata": {},
     "output_type": "execute_result"
    }
   ],
   "source": [
    "#Add Region Column\n",
    "northeast = [\"PA\", \"NJ\", \"CT\", \"RI\", \"MA\", \"NH\", \"VT\", \"NY\", \"ME\"]\n",
    "south = [\"TX\", \"OK\", \"AR\", \"LA\", \"MS\", \"AL\", \"GA\", \"FL\", \"SC\", \"NC\", \"VA\", \"DC\", \"MD\", \"DE\", \"WV\", \"KY\", \"TN\", \"AL\"]\n",
    "midwest = [\"ND\", \"SD\", \"NE\", \"KS\", \"MO\", \"IA\", \"MN\", \"WI\", \"IL\", \"IN\", \"MI\", \"OH\"]\n",
    "west = [\"WA\", \"OR\", \"CA\", \"AZ\", \"NV\", \"ID\", \"MT\", \"WY\", \"CO\", \"NM\", \"UT\"]\n",
    "\n",
    "#method to check which region a state is in\n",
    "def get_region(state):\n",
    "    if state in northeast:\n",
    "        return \"Northeast\"\n",
    "    elif state in south:\n",
    "        return \"South\"\n",
    "    elif state in midwest:\n",
    "        return \"Midwest\"\n",
    "    elif state in west:\n",
    "        return \"West\"\n",
    "    else:\n",
    "        return \"Unknown\"\n",
    "    \n",
    "# Apply the function to create a new 'region' column\n",
    "df_clean['region'] = df_clean['LocationAbbr'].apply(get_region)\n",
    "df_clean['region']"
   ]
  },
  {
   "cell_type": "code",
   "execution_count": null,
   "metadata": {},
   "outputs": [],
   "source": []
  }
 ],
 "metadata": {
  "kernelspec": {
   "display_name": "Python 3",
   "language": "python",
   "name": "python3"
  },
  "language_info": {
   "codemirror_mode": {
    "name": "ipython",
    "version": 3
   },
   "file_extension": ".py",
   "mimetype": "text/x-python",
   "name": "python",
   "nbconvert_exporter": "python",
   "pygments_lexer": "ipython3",
   "version": "3.11.1"
  },
  "orig_nbformat": 4,
  "vscode": {
   "interpreter": {
    "hash": "aee8b7b246df8f9039afb4144a1f6fd8d2ca17a180786b69acc140d282b71a49"
   }
  }
 },
 "nbformat": 4,
 "nbformat_minor": 2
}
